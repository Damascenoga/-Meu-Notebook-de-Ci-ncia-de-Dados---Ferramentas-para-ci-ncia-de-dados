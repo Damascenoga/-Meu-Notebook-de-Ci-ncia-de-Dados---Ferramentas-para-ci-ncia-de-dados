{
 "cells": [
  {
   "cell_type": "markdown",
   "metadata": {},
   "source": [
    "<center>\n",
    "    <img src=\"https://cf-courses-data.s3.us.cloud-object-storage.appdomain.cloud/IBMDeveloperSkillsNetwork-DS0105EN-SkillsNetwork/labs/Module2/images/SN_web_lightmode.png\" width=\"300\" alt=\"cognitiveclass.ai logo\">\n",
    "</center>\n"
   ]
  },
  {
   "cell_type": "markdown",
   "metadata": {},
   "source": [
    "#### Add your code below following the instructions given in the course\n"
   ]
  },
  {
   "cell_type": "markdown",
   "metadata": {
    "tags": []
   },
   "source": [
    "# Meu Notebook de Ciência de Dados - Ferramentas para ciência de dados\n"
   ]
  },
  {
   "cell_type": "markdown",
   "metadata": {
    "tags": []
   },
   "source": [
    "## Introdução\n",
    "Bem-vindo ao meu notebook de ciência de dados. Neste notebook, exploraremos diversos conceitos e técnicas importantes da ciência de dados.\n"
   ]
  },
  {
   "cell_type": "markdown",
   "metadata": {
    "tags": []
   },
   "source": [
    "## Linguagens de Ciência de Dados\n",
    "- Python\n",
    "- R\n",
    "- SQL\n",
    "- Julia\n"
   ]
  },
  {
   "cell_type": "markdown",
   "metadata": {
    "tags": []
   },
   "source": [
    "## Bibliotecas de Ciência de Dados\n",
    "- Pandas\n",
    "- NumPy\n",
    "- Matplotlib\n",
    "- Seaborn\n"
   ]
  },
  {
   "cell_type": "markdown",
   "metadata": {
    "tags": []
   },
   "source": [
    "## Ferramentas de Ciência de Dados\n",
    "| Ferramenta        | Descrição                                  |\n",
    "|-------------------|--------------------------------------------|\n",
    "| Jupyter Notebook  | Ambiente interativo para análise de dados  |\n",
    "| RStudio           | IDE para programação em R                  |\n",
    "| Spyder            | IDE para programação em Python             |\n",
    "| SQL Server        | Banco de dados relacional                  |\n"
   ]
  },
  {
   "cell_type": "code",
   "execution_count": 2,
   "metadata": {
    "tags": []
   },
   "outputs": [
    {
     "data": {
      "text/plain": [
       "-7.5"
      ]
     },
     "execution_count": 2,
     "metadata": {},
     "output_type": "execute_result"
    }
   ],
   "source": [
    "## Expressões Aritméticas\n",
    "- 2 + 2;\n",
    "- (5 * 3) / 2 \n"
   ]
  },
  {
   "cell_type": "code",
   "execution_count": 3,
   "metadata": {
    "tags": []
   },
   "outputs": [
    {
     "name": "stdout",
     "output_type": "stream",
     "text": [
      "Multiplicação: 15\n",
      "Adição: 8\n"
     ]
    }
   ],
   "source": [
    "# Célula de código\n",
    "num1 = 5\n",
    "num2 = 3\n",
    "multiplicacao = num1 * num2\n",
    "adicao = num1 + num2\n",
    "print(\"Multiplicação:\", multiplicacao)\n",
    "print(\"Adição:\", adicao)\n"
   ]
  },
  {
   "cell_type": "code",
   "execution_count": 4,
   "metadata": {
    "tags": []
   },
   "outputs": [
    {
     "name": "stdout",
     "output_type": "stream",
     "text": [
      "Minutos: 150\n",
      "Horas: 2.5\n"
     ]
    }
   ],
   "source": [
    "# Célula de código\n",
    "minutos = 150\n",
    "horas = minutos / 60\n",
    "print(\"Minutos:\", minutos)\n",
    "print(\"Horas:\", horas)\n"
   ]
  },
  {
   "cell_type": "markdown",
   "metadata": {
    "tags": []
   },
   "source": [
    "## Objetivos\n",
    "- Demonstrar habilidades em ciência de dados\n",
    "- Compartilhar conhecimento com outros estudantes\n",
    "- Aprender e crescer no campo da análise de dados\n"
   ]
  },
  {
   "cell_type": "code",
   "execution_count": 5,
   "metadata": {
    "tags": []
   },
   "outputs": [
    {
     "data": {
      "application/vnd.jupyter.widget-view+json": {
       "model_id": "edc6ee2062b141a3b412d288dfbdd70c",
       "version_major": 2,
       "version_minor": 0
      },
      "text/plain": [
       "HTML(value='<h1>50.00%</h1>')"
      ]
     },
     "metadata": {},
     "output_type": "display_data"
    },
    {
     "data": {
      "application/vnd.jupyter.widget-view+json": {
       "model_id": "ec732afebf8d426d9acc5c7b6bf95330",
       "version_major": 2,
       "version_minor": 0
      },
      "text/plain": [
       "HTML(value='<svg height=\"50\" width=\"50\"><circle cx=\"25.0\" cy=\"25.0\" r=\"25.0\" fill=\"blue\" /></svg>')"
      ]
     },
     "metadata": {},
     "output_type": "display_data"
    },
    {
     "data": {
      "application/vnd.jupyter.widget-view+json": {
       "model_id": "1b5c08d843eb43f2a14f3bc3bb5bcc6e",
       "version_major": 2,
       "version_minor": 0
      },
      "text/plain": [
       "HBox(children=(Button(description='+', style=ButtonStyle()), Button(description='-', style=ButtonStyle())))"
      ]
     },
     "metadata": {},
     "output_type": "display_data"
    }
   ],
   "source": [
    "import ipywidgets as widgets\n",
    "from IPython.display import display, HTML\n",
    "\n",
    "numero = 50\n",
    "\n",
    "def atualizar_numero_e_figura():\n",
    "    numero_texto.value = f'<h1>{numero:.2f}%</h1>'\n",
    "    circulo.value = f'<svg height=\"{numero}\" width=\"{numero}\"><circle cx=\"{numero/2}\" cy=\"{numero/2}\" r=\"{numero/2}\" fill=\"blue\" /></svg>'\n",
    "\n",
    "def aumentar_numero(button):\n",
    "    global numero\n",
    "    numero += 1\n",
    "    if numero > 1000:\n",
    "        numero = 100\n",
    "    atualizar_numero_e_figura()\n",
    "\n",
    "def diminuir_numero(button):\n",
    "    global numero\n",
    "    numero -= 1\n",
    "    if numero < 0:\n",
    "        numero = 0\n",
    "    atualizar_numero_e_figura()\n",
    "\n",
    "button_increase = widgets.Button(description='+')\n",
    "button_decrease = widgets.Button(description='-')\n",
    "\n",
    "button_increase.on_click(aumentar_numero)\n",
    "button_decrease.on_click(diminuir_numero)\n",
    "\n",
    "numero_texto = widgets.HTML(value=f'<h1>{numero:.2f}%</h1>')\n",
    "display(numero_texto)\n",
    "\n",
    "circulo = widgets.HTML()\n",
    "atualizar_numero_e_figura()\n",
    "display(circulo)\n",
    "\n",
    "display(widgets.HBox([button_increase, button_decrease]))\n"
   ]
  },
  {
   "cell_type": "markdown",
   "metadata": {},
   "source": [
    "Descrição do Projeto: Controle Interativo de Porcentagem com Figura Geométrica\n",
    "\n",
    "Este projeto apresenta um aplicativo interativo em Python usando a biblioteca ipywidgets, permitindo aos usuários ajustar dinamicamente uma porcentagem de 0% a 100% por meio de botões de \"+\" e \"-\", enquanto uma figura geométrica (um círculo) é atualizada para refletir visualmente o valor da porcentagem. Esse tipo de interação é comum em visualizações de dados interativas, como:\n",
    "\n",
    "Dashboard de Análise de Dados: Permitindo aos usuários ajustar parâmetros ou filtros e observar visualmente o impacto nos dados.\n",
    "\n",
    "Análise Exploratória de Dados: Facilitando a exploração visual de diferentes subconjuntos ou características dos dados.\n",
    "\n",
    "Visualização de Resultados de Modelagem: Permitindo a interação com resultados de modelos de machine learning, como ajuste de hiperparâmetros ou exploração de diferentes cenários.\n",
    "\n",
    "Apresentações Interativas de Dados: Oferecendo uma maneira envolvente de apresentar dados e insights, permitindo aos usuários explorar e interagir com visualizações."
   ]
  },
  {
   "cell_type": "markdown",
   "metadata": {
    "tags": []
   },
   "source": [
    "## Autor\n",
    "Autor: Gabriel Mota Damasceno;\n",
    "linkedin: https://www.linkedin.com/in/gabrielmotad/"
   ]
  },
  {
   "cell_type": "code",
   "execution_count": null,
   "metadata": {},
   "outputs": [],
   "source": []
  },
  {
   "cell_type": "code",
   "execution_count": null,
   "metadata": {},
   "outputs": [],
   "source": []
  }
 ],
 "metadata": {
  "kernelspec": {
   "display_name": "Python",
   "language": "python",
   "name": "conda-env-python-py"
  },
  "language_info": {
   "codemirror_mode": {
    "name": "ipython",
    "version": 3
   },
   "file_extension": ".py",
   "mimetype": "text/x-python",
   "name": "python",
   "nbconvert_exporter": "python",
   "pygments_lexer": "ipython3",
   "version": "3.7.12"
  }
 },
 "nbformat": 4,
 "nbformat_minor": 4
}
